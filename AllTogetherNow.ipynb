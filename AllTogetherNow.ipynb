{
 "cells": [
  {
   "cell_type": "markdown",
   "metadata": {},
   "source": [
    "## Step 1: Import the data, from two subreddits ##\n",
    "\n",
    "1. Function takes two subreddits, scrapes the top thousand posts from each of them, saves it to a csv. Combines the DFs, maps out the target column. Pre-processes the title data appropriately. returns the clean df (X) and target(y)"
   ]
  },
  {
   "cell_type": "code",
   "execution_count": 1,
   "metadata": {},
   "outputs": [
    {
     "name": "stderr",
     "output_type": "stream",
     "text": [
      "/home/omar/miniconda3/lib/python3.6/site-packages/sklearn/ensemble/weight_boosting.py:29: DeprecationWarning: numpy.core.umath_tests is an internal NumPy module and should not be imported. It will be removed in a future NumPy release.\n",
      "  from numpy.core.umath_tests import inner1d\n"
     ]
    }
   ],
   "source": [
    "import requests, json, time, re, itertools\n",
    "import pandas as pd\n",
    "import numpy as np\n",
    "\n",
    "from sklearn.feature_extraction.text import TfidfVectorizer\n",
    "from sklearn.tree import DecisionTreeRegressor\n",
    "from sklearn.model_selection import train_test_split, GridSearchCV, cross_val_score\n",
    "from sklearn.naive_bayes import MultinomialNB\n",
    "from sklearn.linear_model import LogisticRegressionCV\n",
    "from sklearn.ensemble import RandomForestClassifier, AdaBoostClassifier, GradientBoostingClassifier\n",
    "from sklearn.externals import joblib\n",
    "from sklearn.metrics import confusion_matrix, roc_curve, roc_auc_score\n",
    "from sklearn.svm import SVC\n",
    "\n",
    "import matplotlib.pyplot as plt\n",
    "%matplotlib inline\n",
    "\n",
    "#Tokenizer needed for our model (may pickle for later)\n",
    "from nltk import word_tokenize          \n",
    "\n",
    "class SnowballTokenizer(object):\n",
    "    def __init__(self):\n",
    "        self.sbs = SnowballStemmer('english')\n",
    "    def __call__(self, doc):\n",
    "        return [self.sbs.stem(t) for t in word_tokenize(doc)]"
   ]
  },
  {
   "cell_type": "code",
   "execution_count": 11,
   "metadata": {},
   "outputs": [],
   "source": [
    "# This function gets a subreddit name and scrapes the top thousand entries in JSON, returning a list of them\n",
    "def scrape_subr(subr):\n",
    "    url= \"https://www.reddit.com/r/\"+subr+'/top.json?t=all'; \n",
    "    posts=[];\n",
    "    after= None; \n",
    "    \n",
    "    for _ in range(40):\n",
    "            if after == None:\n",
    "                current_url = url\n",
    "            else:\n",
    "                current_url = url + '&after=' + after\n",
    "            print(f'/r/{subr} Page {_}:', current_url);\n",
    "\n",
    "            #make the request and handle status code, add 2 sec sleep\n",
    "\n",
    "            res= requests.get(current_url, headers={'User-agent': 'DataSci 5.5'})\n",
    "\n",
    "            if res.status_code != 200:\n",
    "                print('Status error', res.status_code)\n",
    "                break\n",
    "\n",
    "            current_dict = res.json()\n",
    "            current_posts = [p['data'] for p in current_dict['data']['children']]\n",
    "            posts.extend(current_posts)\n",
    "\n",
    "            after= current_dict['data']['after']\n",
    "\n",
    "            time.sleep(2)\n",
    "    df = pd.DataFrame(posts).drop('Unnamed: 0', 1)\n",
    "    df.to_csv(f'./data_csvs/{subr}_raw.csv', index=False)\n",
    "    # For seperation of concerns, could pull out a \"clean_df/csv\" function\n",
    "    df_clean = df[['title', 'subreddit']]\n",
    "    df_clean.to_csv(f'./data_csvs/{subr}_clean.csv', index=False)\n",
    "    return df_clean"
   ]
  },
  {
   "cell_type": "code",
   "execution_count": 17,
   "metadata": {},
   "outputs": [],
   "source": [
    "def redditize(subr1, subr2):\n",
    "    df_list=[]\n",
    "    for subr in [subr1, subr2]:\n",
    "        #scrape the subreddit, save it as a csv, add it to our list\n",
    "        df_list.append(scrape_subr(subr));\n",
    "    #concatenate the dfs into one\n",
    "    df= pd.concat(df_list, ignore_index=True)\n",
    "    #clean up the title column: remove punctuations and lowercase it\n",
    "    #### NOTE: If other  transformations are required, apply the following (or more) ####\n",
    "#     stopWords = set(stopwords.words('english'))\n",
    "#     df['qmark']= df['title'].apply(lambda x: 1 if '?' in x else 0 )\n",
    "#     df['words_not_stopword'] = df['processed'].apply(lambda x: len([t for t in x.split(' ') if t not in stopWords]))\n",
    "    df['processed'] = df['title'].apply(lambda x: re.sub(r'[^\\w\\s]','', x.lower()))\n",
    "    # This will be our X and y:\n",
    "    map_dict= {\n",
    "        subr1: 0,\n",
    "        subr2: 1\n",
    "    }\n",
    "    df['subreddit'] = df['subreddit'].map(map_dict)\n",
    "    return df['processed'], df['subreddit']\n",
    "#   right way to call is >> X, y = redditize('subr1', 'subr2')  "
   ]
  },
  {
   "cell_type": "code",
   "execution_count": 6,
   "metadata": {},
   "outputs": [],
   "source": [
    "## For the clean test csvs only\n",
    "oil = pd.read_csv('./data_csvs/oil_clean.csv').drop('Unnamed: 0', 1)\n",
    "fashion = pd.read_csv('./data_csvs/fashion_clean.csv').drop('Unnamed: 0', 1)\n",
    "\n",
    "for df in [oil, fashion]:\n",
    "    df['processed'] = df['title'].apply(lambda x: re.sub(r'[^\\w\\s]','', x.lower()))\n",
    "    # This will be our X and y:\n",
    "    map_dict= {\n",
    "        'oil': 1,\n",
    "        'fashion': 0\n",
    "    }\n",
    "    df['subreddit'] = df['subreddit'].map(map_dict)\n",
    "df = pd.concat([oil, fashion], ignore_index=True)"
   ]
  },
  {
   "cell_type": "code",
   "execution_count": 8,
   "metadata": {},
   "outputs": [],
   "source": [
    "X, y = df['processed'], df['subreddit']"
   ]
  },
  {
   "cell_type": "markdown",
   "metadata": {},
   "source": [
    "# Step 2: Train test split and fit our model to the train, score on split #"
   ]
  },
  {
   "cell_type": "code",
   "execution_count": 11,
   "metadata": {},
   "outputs": [],
   "source": [
    "# Import our pickled model\n",
    "model = joblib.load('./tf_svc_pipe.pkl')"
   ]
  },
  {
   "cell_type": "code",
   "execution_count": 15,
   "metadata": {},
   "outputs": [],
   "source": [
    "X_train, X_test, y_train, y_test = train_test_split(X, y)"
   ]
  },
  {
   "cell_type": "code",
   "execution_count": 77,
   "metadata": {},
   "outputs": [
    {
     "data": {
      "text/plain": [
       "Pipeline(memory=None,\n",
       "     steps=[('tfidf', TfidfVectorizer(analyzer='word', binary=False, decode_error='strict',\n",
       "        dtype=<class 'numpy.int64'>, encoding='utf-8', input='content',\n",
       "        lowercase=True, max_df=1.0, max_features=9500, min_df=1,\n",
       "        ngram_range=(1, 4), norm='l2', preprocessor=None, smooth_idf=True,\n",
       " ...',\n",
       "  max_iter=-1, probability=True, random_state=None, shrinking=True,\n",
       "  tol=0.001, verbose=False))])"
      ]
     },
     "execution_count": 77,
     "metadata": {},
     "output_type": "execute_result"
    }
   ],
   "source": [
    "model.fit(X_train, y_train)"
   ]
  },
  {
   "cell_type": "code",
   "execution_count": 78,
   "metadata": {},
   "outputs": [
    {
     "data": {
      "text/plain": [
       "0.9973262032085561"
      ]
     },
     "execution_count": 78,
     "metadata": {},
     "output_type": "execute_result"
    }
   ],
   "source": [
    "model.score(X_train, y_train)"
   ]
  },
  {
   "cell_type": "code",
   "execution_count": 79,
   "metadata": {},
   "outputs": [
    {
     "data": {
      "text/plain": [
       "0.9519038076152304"
      ]
     },
     "execution_count": 79,
     "metadata": {},
     "output_type": "execute_result"
    }
   ],
   "source": [
    "model.score(X_test, y_test)\n",
    "#This is not horrible, but not great (the original two subr got a 98%)"
   ]
  },
  {
   "cell_type": "code",
   "execution_count": 38,
   "metadata": {},
   "outputs": [],
   "source": [
    "# adapted from https://medium.com/@aneesha/visualising-top-features-in-linear-svm-with-scikit-learn-and-matplotlib-3454ab18a14d\n",
    "def plot_coefficients(classifier, feature_names, top_features=20):\n",
    "    coef = classifier.coef_.toarray().ravel()\n",
    "    top_positive_coefficients = np.argsort(coef)[-top_features:]\n",
    "    top_negative_coefficients = np.argsort(coef)[:top_features]\n",
    "    top_coefficients = np.hstack([top_negative_coefficients, top_positive_coefficients])\n",
    "    # create plot\n",
    "    plt.figure(figsize=(15, 5))\n",
    "    plt.title(f'Top {top_features} Coefficients for each class')\n",
    "    colors = ['orange' if c < 0 else 'blue' for c in coef[top_coefficients]]\n",
    "    plt.bar(np.arange(2 * top_features), coef[top_coefficients], color=colors)\n",
    "    feature_names = np.array(feature_names)\n",
    "    plt.xticks(np.arange(1, 1 + 2 * top_features), feature_names[top_coefficients], rotation=60, ha='right')\n",
    "    plt.show()"
   ]
  },
  {
   "cell_type": "code",
   "execution_count": 41,
   "metadata": {},
   "outputs": [],
   "source": [
    "# courtesy of http://scikit-learn.org/stable/auto_examples/model_selection/plot_confusion_matrix.html#sphx-glr-auto-examples-model-selection-plot-confusion-matrix-py\n",
    "def plot_confusion_matrix(cm, classes,\n",
    "                          normalize=False,\n",
    "                          title='Confusion matrix',\n",
    "                          cmap=plt.cm.Blues):\n",
    "    \"\"\"\n",
    "    This function prints and plots the confusion matrix.\n",
    "    Normalization can be applied by setting `normalize=True`.\n",
    "    \"\"\"\n",
    "    if normalize:\n",
    "        cm = cm.astype('float') / cm.sum(axis=1)[:, np.newaxis]\n",
    "        print(\"Normalized confusion matrix\")\n",
    "    else:\n",
    "        print('Confusion matrix, without normalization')\n",
    "\n",
    "    print(cm)\n",
    "\n",
    "    plt.imshow(cm, interpolation='nearest', cmap=cmap)\n",
    "    plt.title(title)\n",
    "    plt.colorbar()\n",
    "    tick_marks = np.arange(len(classes))\n",
    "    plt.xticks(tick_marks, classes, rotation=45)\n",
    "    plt.yticks(tick_marks, classes)\n",
    "\n",
    "    fmt = '.2f' if normalize else 'd'\n",
    "    thresh = cm.max() / 2.\n",
    "    for i, j in itertools.product(range(cm.shape[0]), range(cm.shape[1])):\n",
    "        plt.text(j, i, format(cm[i, j], fmt),\n",
    "                 horizontalalignment=\"center\",\n",
    "                 color=\"white\" if cm[i, j] > thresh else \"black\")\n",
    "\n",
    "    plt.tight_layout()\n",
    "    plt.ylabel('True label')\n",
    "    plt.xlabel('Predicted label')"
   ]
  },
  {
   "cell_type": "code",
   "execution_count": null,
   "metadata": {},
   "outputs": [],
   "source": [
    "# Function that takes a df, splits, it and processes the accuracy (and even confusion matrix!) on the two. \n",
    "def run_model(X, y):\n",
    "    X_train, X_test, y_train, y_test = train_test_split(X, y) \n",
    "    model.fit(X_train, y_train)\n",
    "    print(f\"Training Accuracy: {model.score(X_train, y_train)}\")\n",
    "    print(f\"Testing Accuracy: {model.score(X_test, y_test)}\")\n",
    "    tfidf = model.named_steps.tfidf\n",
    "    svc = model.named_steps.svc\n",
    "    plot_coefficients(svc, tfidf.get_feature_names(), top_features=15)\n",
    "    y_pred = model.predict(X_test);\n",
    "    cnf_matrix = confusion_matrix(y_test, y_pred)\n",
    "    plot_confusion_matrix(cnf_matrix, classes=['Sub', 'oil'], title='oil/fashion confusion')"
   ]
  },
  {
   "cell_type": "code",
   "execution_count": 39,
   "metadata": {},
   "outputs": [
    {
     "data": {
      "image/png": "[encoded data removed]",
      "text/plain": [
       "<Figure size 1080x360 with 1 Axes>"
      ]
     },
     "metadata": {
      "needs_background": "light"
     },
     "output_type": "display_data"
    }
   ],
   "source": [
    "plot_coefficients(svc, tfidf.get_feature_names(), top_features=15)"
   ]
  },
  {
   "cell_type": "code",
   "execution_count": 46,
   "metadata": {
    "scrolled": true
   },
   "outputs": [
    {
     "name": "stdout",
     "output_type": "stream",
     "text": [
      "Confusion matrix, without normalization\n",
      "[[241   8]\n",
      " [ 16 234]]\n"
     ]
    },
    {
     "data": {
      "image/png": "[encoded data removed]",
      "text/plain": [
       "<Figure size 432x288 with 2 Axes>"
      ]
     },
     "metadata": {
      "needs_background": "light"
     },
     "output_type": "display_data"
    }
   ],
   "source": [
    "y_pred = model.predict(X_test);\n",
    "cnf_matrix = confusion_matrix(y_test, y_pred)\n",
    "plot_confusion_matrix(cnf_matrix, classes=['0_class', '1_class'], title='oil/fashion confusion')"
   ]
  },
  {
   "cell_type": "code",
   "execution_count": 48,
   "metadata": {},
   "outputs": [],
   "source": [
    "e = y_pred- y_test"
   ]
  },
  {
   "cell_type": "code",
   "execution_count": 68,
   "metadata": {},
   "outputs": [
    {
     "data": {
      "text/plain": [
       "-1    16\n",
       " 1     8\n",
       "Name: subreddit, dtype: int64"
      ]
     },
     "execution_count": 68,
     "metadata": {},
     "output_type": "execute_result"
    }
   ],
   "source": [
    "pd.options.display.max_colwidth = 90\n",
    "wrongindices= e[e !=0].index\n",
    "wrongs = pd.DataFrame([X_test[wrongindices],e[wrongindices]]).T\n",
    "wrongs['subreddit'].value_counts()\n",
    "# why these wrongs? How to best analyze the whys?"
   ]
  },
  {
   "cell_type": "code",
   "execution_count": 88,
   "metadata": {},
   "outputs": [],
   "source": [
    "# Note that my pickled model has probablity == False, so that'll need to change when automating\n",
    "fpr, tpr, thresholds = roc_curve(y_test, model.predict_proba(X_test)[:, 1])\n",
    "roc_auc = roc_auc_score(y_test, model.predict_proba(X_test)[:, 1])\n"
   ]
  },
  {
   "cell_type": "code",
   "execution_count": 94,
   "metadata": {},
   "outputs": [
    {
     "data": {
      "image/png": "[encoded data removed]",
      "text/plain": [
       "<Figure size 432x288 with 1 Axes>"
      ]
     },
     "metadata": {
      "needs_background": "light"
     },
     "output_type": "display_data"
    }
   ],
   "source": [
    "\n",
    "plt.figure()\n",
    "lw = 2\n",
    "plt.plot(fpr, tpr, color='darkorange',\n",
    "         lw=lw, label='ROC curve (area = %0.2f)' % roc_auc)\n",
    "plt.plot([0, 1], [0, 1], color='navy', lw=lw, linestyle='--')\n",
    "plt.xlim([0.0, 1.0])\n",
    "plt.ylim([0.0, 1.05])\n",
    "plt.xlabel('False Positive Rate')\n",
    "plt.ylabel('True Positive Rate')\n",
    "plt.title('Receiver operating characteristic example')\n",
    "plt.legend(loc=\"lower right\")\n",
    "plt.show()\n"
   ]
  },
  {
   "cell_type": "code",
   "execution_count": null,
   "metadata": {},
   "outputs": [],
   "source": []
  },
  {
   "cell_type": "markdown",
   "metadata": {},
   "source": [
    "# Master List of things untried #\n",
    "1. Feature Elimination\n",
    "    - where and when to implement? Neccessary\n",
    "2. Neural Networks/ other classifiers\n",
    "    - How can I start approaching a multi-class model for many (all?) subreddits?\n",
    "    - One V All ?\n"
   ]
  }
 ],
 "metadata": {
  "kernelspec": {
   "display_name": "Python 3",
   "language": "python",
   "name": "python3"
  },
  "language_info": {
   "codemirror_mode": {
    "name": "ipython",
    "version": 3
   },
   "file_extension": ".py",
   "mimetype": "text/x-python",
   "name": "python",
   "nbconvert_exporter": "python",
   "pygments_lexer": "ipython3",
   "version": "3.6.5"
  }
 },
 "nbformat": 4,
 "nbformat_minor": 2
}
